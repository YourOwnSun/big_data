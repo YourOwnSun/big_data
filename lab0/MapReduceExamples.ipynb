{
  "cells": [
    {
      "cell_type": "markdown",
      "metadata": {
        "id": "82OvPKEiEqjc"
      },
      "source": [
        "# Введение в MapReduce модель на Python\n"
      ]
    },
    {
      "cell_type": "code",
      "execution_count": 148,
      "metadata": {
        "id": "JQ2cvXLjICmI"
      },
      "outputs": [],
      "source": [
        "from typing import NamedTuple # requires python 3.6+\n",
        "from typing import Iterator"
      ]
    },
    {
      "cell_type": "code",
      "execution_count": 149,
      "metadata": {
        "id": "yjPHumVwEyEg"
      },
      "outputs": [],
      "source": [
        "def MAP(_, row:NamedTuple):\n",
        "  if (row.gender == 'female'):\n",
        "    yield (row.age, row)\n",
        "\n",
        "def REDUCE(age:str, rows:Iterator[NamedTuple]):\n",
        "  sum = 0\n",
        "  count = 0\n",
        "  for row in rows:\n",
        "    sum += row.social_contacts\n",
        "    count += 1\n",
        "  if (count > 0):\n",
        "    yield (age, sum/count)\n",
        "  else:\n",
        "    yield (age, 0)"
      ]
    },
    {
      "cell_type": "markdown",
      "metadata": {
        "id": "vBKMgpG_ilaZ"
      },
      "source": [
        "Модель элемента данных"
      ]
    },
    {
      "cell_type": "code",
      "execution_count": 150,
      "metadata": {
        "id": "Rv-XIjhTJPx3"
      },
      "outputs": [],
      "source": [
        "class User(NamedTuple):\n",
        "  id: int\n",
        "  age: str\n",
        "  social_contacts: int\n",
        "  gender: str"
      ]
    },
    {
      "cell_type": "code",
      "execution_count": 151,
      "metadata": {
        "id": "5KV0Ze2vQgu5"
      },
      "outputs": [],
      "source": [
        "input_collection = [\n",
        "    User(id=0, age=55, gender='male', social_contacts=20),\n",
        "    User(id=1, age=25, gender='female', social_contacts=240),\n",
        "    User(id=2, age=25, gender='female', social_contacts=500),\n",
        "    User(id=3, age=33, gender='female', social_contacts=800)\n",
        "]"
      ]
    },
    {
      "cell_type": "markdown",
      "metadata": {
        "id": "YFeqzyZxZIFZ"
      },
      "source": [
        "Функция RECORDREADER моделирует чтение элементов с диска или по сети."
      ]
    },
    {
      "cell_type": "code",
      "execution_count": 152,
      "metadata": {
        "id": "S5HR4E_GQoMJ"
      },
      "outputs": [],
      "source": [
        "def RECORDREADER():\n",
        "  return [(u.id, u) for u in input_collection]"
      ]
    },
    {
      "cell_type": "code",
      "execution_count": 153,
      "metadata": {
        "colab": {
          "base_uri": "https://localhost:8080/"
        },
        "id": "NeEoWla-ROUy",
        "outputId": "6075ec6f-8d6e-4ded-e70d-c2407492668a"
      },
      "outputs": [
        {
          "output_type": "execute_result",
          "data": {
            "text/plain": [
              "[(0, User(id=0, age=55, social_contacts=20, gender='male')),\n",
              " (1, User(id=1, age=25, social_contacts=240, gender='female')),\n",
              " (2, User(id=2, age=25, social_contacts=500, gender='female')),\n",
              " (3, User(id=3, age=33, social_contacts=800, gender='female'))]"
            ]
          },
          "metadata": {},
          "execution_count": 153
        }
      ],
      "source": [
        "list(RECORDREADER())"
      ]
    },
    {
      "cell_type": "code",
      "execution_count": 154,
      "metadata": {
        "id": "YB8orgPSZs8M"
      },
      "outputs": [],
      "source": [
        "def flatten(nested_iterable):\n",
        "  for iterable in nested_iterable:\n",
        "    for element in iterable:\n",
        "      yield element"
      ]
    },
    {
      "cell_type": "code",
      "execution_count": 155,
      "metadata": {
        "colab": {
          "base_uri": "https://localhost:8080/"
        },
        "id": "74oyvDLaRmd5",
        "outputId": "7e7c54f9-fb11-49ed-a816-17eb67471bab"
      },
      "outputs": [
        {
          "output_type": "execute_result",
          "data": {
            "text/plain": [
              "[(25, User(id=1, age=25, social_contacts=240, gender='female')),\n",
              " (25, User(id=2, age=25, social_contacts=500, gender='female')),\n",
              " (33, User(id=3, age=33, social_contacts=800, gender='female'))]"
            ]
          },
          "metadata": {},
          "execution_count": 155
        }
      ],
      "source": [
        "map_output = flatten(map(lambda x: MAP(*x), RECORDREADER()))\n",
        "map_output = list(map_output) # materialize\n",
        "map_output"
      ]
    },
    {
      "cell_type": "code",
      "execution_count": 156,
      "metadata": {
        "id": "8ncYDJ3-VzDn"
      },
      "outputs": [],
      "source": [
        "def groupbykey(iterable):\n",
        "  t = {}\n",
        "  for (k2, v2) in iterable:\n",
        "    t[k2] = t.get(k2, []) + [v2]\n",
        "  return t.items()"
      ]
    },
    {
      "cell_type": "code",
      "execution_count": 157,
      "metadata": {
        "colab": {
          "base_uri": "https://localhost:8080/"
        },
        "id": "cKzY_6COWOA2",
        "outputId": "9ea3dd32-bdac-4c04-b901-ac9ba7af38d0"
      },
      "outputs": [
        {
          "output_type": "execute_result",
          "data": {
            "text/plain": [
              "[(25,\n",
              "  [User(id=1, age=25, social_contacts=240, gender='female'),\n",
              "   User(id=2, age=25, social_contacts=500, gender='female')]),\n",
              " (33, [User(id=3, age=33, social_contacts=800, gender='female')])]"
            ]
          },
          "metadata": {},
          "execution_count": 157
        }
      ],
      "source": [
        "shuffle_output = groupbykey(map_output)\n",
        "shuffle_output = list(shuffle_output)\n",
        "shuffle_output"
      ]
    },
    {
      "cell_type": "code",
      "execution_count": 158,
      "metadata": {
        "colab": {
          "base_uri": "https://localhost:8080/"
        },
        "id": "NlA7lkDDYL0t",
        "outputId": "5407f5ed-17ad-47eb-af78-c174e07bfaf4"
      },
      "outputs": [
        {
          "output_type": "execute_result",
          "data": {
            "text/plain": [
              "[(25, 370.0), (33, 800.0)]"
            ]
          },
          "metadata": {},
          "execution_count": 158
        }
      ],
      "source": [
        "reduce_output = flatten(map(lambda x: REDUCE(*x), shuffle_output))\n",
        "reduce_output = list(reduce_output)\n",
        "reduce_output"
      ]
    },
    {
      "cell_type": "markdown",
      "metadata": {
        "id": "xf6qhHEtd6bI"
      },
      "source": [
        "Все действия одним конвейером!"
      ]
    },
    {
      "cell_type": "code",
      "execution_count": 159,
      "metadata": {
        "colab": {
          "base_uri": "https://localhost:8080/"
        },
        "id": "dZaQGYxCdpw5",
        "outputId": "ebae6511-fa88-4ebd-89ac-f6b1fa8cab45"
      },
      "outputs": [
        {
          "output_type": "execute_result",
          "data": {
            "text/plain": [
              "[(25, 370.0), (33, 800.0)]"
            ]
          },
          "metadata": {},
          "execution_count": 159
        }
      ],
      "source": [
        "list(flatten(map(lambda x: REDUCE(*x), groupbykey(flatten(map(lambda x: MAP(*x), RECORDREADER()))))))"
      ]
    },
    {
      "cell_type": "markdown",
      "metadata": {
        "id": "Vq3EWRIpwSiJ"
      },
      "source": [
        "# **MapReduce**\n",
        "Выделим общую для всех пользователей часть системы в отдельную функцию высшего порядка. Это наиболее простая модель MapReduce, без учёта распределённого хранения данных.\n",
        "\n",
        "Пользователь для решения своей задачи реализует RECORDREADER, MAP, REDUCE."
      ]
    },
    {
      "cell_type": "code",
      "execution_count": 160,
      "metadata": {
        "id": "V1PZeQMwwVjc"
      },
      "outputs": [],
      "source": [
        "def flatten(nested_iterable):\n",
        "  for iterable in nested_iterable:\n",
        "    for element in iterable:\n",
        "      yield element\n",
        "\n",
        "def groupbykey(iterable):\n",
        "  t = {}\n",
        "  for (k2, v2) in iterable:\n",
        "    t[k2] = t.get(k2, []) + [v2]\n",
        "  return t.items()\n",
        "\n",
        "def MapReduce(RECORDREADER, MAP, REDUCE):\n",
        "  return flatten(map(lambda x: REDUCE(*x), groupbykey(flatten(map(lambda x: MAP(*x), RECORDREADER())))))"
      ]
    },
    {
      "cell_type": "markdown",
      "metadata": {
        "id": "iFIVrimep678"
      },
      "source": [
        "## Спецификация MapReduce\n",
        "\n",
        "\n",
        "\n",
        "```\n",
        "f (k1, v1) -> (k2,v2)*\n",
        "g (k2, v2*) -> (k3,v3)*\n",
        "\n",
        "mapreduce ((k1,v1)*) -> (k3,v3)*\n",
        "groupby ((k2,v2)*) -> (k2,v2*)*\n",
        "flatten (e2**) -> e2*\n",
        "\n",
        "mapreduce .map(f).flatten.groupby(k2).map(g).flatten\n",
        "```\n",
        "\n",
        "\n"
      ]
    },
    {
      "cell_type": "markdown",
      "metadata": {
        "id": "QtTFyqke3KGe"
      },
      "source": [
        "# Примеры"
      ]
    },
    {
      "cell_type": "markdown",
      "metadata": {
        "id": "BNhh5763w5Vn"
      },
      "source": [
        "## SQL"
      ]
    },
    {
      "cell_type": "code",
      "execution_count": 161,
      "metadata": {
        "colab": {
          "base_uri": "https://localhost:8080/"
        },
        "id": "QkyurnvGxBGk",
        "outputId": "575e5d67-de62-422d-a391-58c5499fdb05"
      },
      "outputs": [
        {
          "output_type": "execute_result",
          "data": {
            "text/plain": [
              "[(25, 370.0), (33, 800.0)]"
            ]
          },
          "metadata": {},
          "execution_count": 161
        }
      ],
      "source": [
        "from typing import NamedTuple # requires python 3.6+\n",
        "from typing import Iterator\n",
        "\n",
        "class User(NamedTuple):\n",
        "  id: int\n",
        "  age: str\n",
        "  social_contacts: int\n",
        "  gender: str\n",
        "\n",
        "input_collection = [\n",
        "    User(id=0, age=55, gender='male', social_contacts=20),\n",
        "    User(id=1, age=25, gender='female', social_contacts=240),\n",
        "    User(id=2, age=25, gender='female', social_contacts=500),\n",
        "    User(id=3, age=33, gender='female', social_contacts=800)\n",
        "]\n",
        "\n",
        "def MAP(_, row:NamedTuple):\n",
        "  if (row.gender == 'female'):\n",
        "    yield (row.age, row)\n",
        "\n",
        "def REDUCE(age:str, rows:Iterator[NamedTuple]):\n",
        "  sum = 0\n",
        "  count = 0\n",
        "  for row in rows:\n",
        "    sum += row.social_contacts\n",
        "    count += 1\n",
        "  if (count > 0):\n",
        "    yield (age, sum/count)\n",
        "  else:\n",
        "    yield (age, 0)\n",
        "\n",
        "def RECORDREADER():\n",
        "  return [(u.id, u) for u in input_collection]\n",
        "\n",
        "output = MapReduce(RECORDREADER, MAP, REDUCE)\n",
        "output = list(output)\n",
        "output"
      ]
    },
    {
      "cell_type": "markdown",
      "metadata": {
        "id": "kNKYIeerx0nY"
      },
      "source": [
        "## Matrix-Vector multiplication"
      ]
    },
    {
      "cell_type": "code",
      "execution_count": 162,
      "metadata": {
        "colab": {
          "base_uri": "https://localhost:8080/"
        },
        "id": "rwcntRcCyi1V",
        "outputId": "f1956b37-f132-4177-b9ce-06553a3160c5"
      },
      "outputs": [
        {
          "output_type": "execute_result",
          "data": {
            "text/plain": [
              "[(0, 2.0829123031902945),\n",
              " (1, 2.0829123031902945),\n",
              " (2, 2.0829123031902945),\n",
              " (3, 2.0829123031902945),\n",
              " (4, 2.0829123031902945)]"
            ]
          },
          "metadata": {},
          "execution_count": 162
        }
      ],
      "source": [
        "from typing import Iterator\n",
        "import numpy as np\n",
        "\n",
        "mat = np.ones((5,4))\n",
        "vec = np.random.rand(4) # in-memory vector in all map tasks\n",
        "\n",
        "def MAP(coordinates:(int, int), value:int):\n",
        "  i, j = coordinates\n",
        "  yield (i, value*vec[j])\n",
        "\n",
        "def REDUCE(i:int, products:Iterator[NamedTuple]):\n",
        "  sum = 0\n",
        "  for p in products:\n",
        "    sum += p\n",
        "  yield (i, sum)\n",
        "\n",
        "def RECORDREADER():\n",
        "  for i in range(mat.shape[0]):\n",
        "    for j in range(mat.shape[1]):\n",
        "      yield ((i, j), mat[i,j])\n",
        "\n",
        "output = MapReduce(RECORDREADER, MAP, REDUCE)\n",
        "output = list(output)\n",
        "output"
      ]
    },
    {
      "cell_type": "markdown",
      "metadata": {
        "id": "ruZREYdi2o4O"
      },
      "source": [
        "## Inverted index"
      ]
    },
    {
      "cell_type": "code",
      "execution_count": 163,
      "metadata": {
        "colab": {
          "base_uri": "https://localhost:8080/"
        },
        "id": "vt9H9Alf3TYv",
        "outputId": "8d79cf27-d57f-4d5a-b334-13325119ba0f"
      },
      "outputs": [
        {
          "output_type": "execute_result",
          "data": {
            "text/plain": [
              "[('what', ['0', '1']),\n",
              " ('it', ['0', '1', '2']),\n",
              " ('is', ['0', '1', '2']),\n",
              " ('a', ['2']),\n",
              " ('banana', ['2'])]"
            ]
          },
          "metadata": {},
          "execution_count": 163
        }
      ],
      "source": [
        "from typing import Iterator\n",
        "\n",
        "d1 = \"it is what it is\"\n",
        "d2 = \"what is it\"\n",
        "d3 = \"it is a banana\"\n",
        "documents = [d1, d2, d3]\n",
        "\n",
        "def RECORDREADER():\n",
        "  for (docid, document) in enumerate(documents):\n",
        "    yield (\"{}\".format(docid), document)\n",
        "\n",
        "def MAP(docId:str, body:str):\n",
        "  for word in set(body.split(' ')):\n",
        "    yield (word, docId)\n",
        "\n",
        "def REDUCE(word:str, docIds:Iterator[str]):\n",
        "  yield (word, sorted(docIds))\n",
        "\n",
        "output = MapReduce(RECORDREADER, MAP, REDUCE)\n",
        "output = list(output)\n",
        "output"
      ]
    },
    {
      "cell_type": "markdown",
      "metadata": {
        "id": "R7az-6DA6qr2"
      },
      "source": [
        "## WordCount"
      ]
    },
    {
      "cell_type": "code",
      "execution_count": 164,
      "metadata": {
        "colab": {
          "base_uri": "https://localhost:8080/"
        },
        "id": "dN-nbtgG6uYG",
        "outputId": "de2ecbf3-fdd9-42b3-90b4-e8c0ff6c5a13"
      },
      "outputs": [
        {
          "output_type": "execute_result",
          "data": {
            "text/plain": [
              "[('', 3), ('it', 9), ('is', 9), ('what', 5), ('a', 1), ('banana', 1)]"
            ]
          },
          "metadata": {},
          "execution_count": 164
        }
      ],
      "source": [
        "from typing import Iterator\n",
        "\n",
        "d1 = \"\"\"\n",
        "it is what it is\n",
        "it is what it is\n",
        "it is what it is\"\"\"\n",
        "d2 = \"\"\"\n",
        "what is it\n",
        "what is it\"\"\"\n",
        "d3 = \"\"\"\n",
        "it is a banana\"\"\"\n",
        "documents = [d1, d2, d3]\n",
        "\n",
        "def RECORDREADER():\n",
        "  for (docid, document) in enumerate(documents):\n",
        "    for (lineid, line) in enumerate(document.split('\\n')):\n",
        "      yield (\"{}:{}\".format(docid,lineid), line)\n",
        "\n",
        "def MAP(docId:str, line:str):\n",
        "  for word in line.split(\" \"):\n",
        "    yield (word, 1)\n",
        "\n",
        "def REDUCE(word:str, counts:Iterator[int]):\n",
        "  sum = 0\n",
        "  for c in counts:\n",
        "    sum += c\n",
        "  yield (word, sum)\n",
        "\n",
        "output = MapReduce(RECORDREADER, MAP, REDUCE)\n",
        "output = list(output)\n",
        "output"
      ]
    },
    {
      "cell_type": "markdown",
      "metadata": {
        "id": "h-jRAcYCAkkk"
      },
      "source": [
        "# MapReduce Distributed\n",
        "\n",
        "Добавляется в модель фабрика RECORDREARER-ов --- INPUTFORMAT, функция распределения промежуточных результатов по партициям PARTITIONER, и функция COMBINER для частичной аггрегации промежуточных результатов до распределения по новым партициям."
      ]
    },
    {
      "cell_type": "code",
      "execution_count": 165,
      "metadata": {
        "id": "nw-b-xJsApgW"
      },
      "outputs": [],
      "source": [
        "def flatten(nested_iterable):\n",
        "  for iterable in nested_iterable:\n",
        "    for element in iterable:\n",
        "      yield element\n",
        "\n",
        "def groupbykey(iterable):\n",
        "  t = {}\n",
        "  for (k2, v2) in iterable:\n",
        "    t[k2] = t.get(k2, []) + [v2]\n",
        "  return t.items()\n",
        "\n",
        "def groupbykey_distributed(map_partitions, PARTITIONER):\n",
        "  global reducers\n",
        "  partitions = [dict() for _ in range(reducers)]\n",
        "  for map_partition in map_partitions:\n",
        "    for (k2, v2) in map_partition:\n",
        "      p = partitions[PARTITIONER(k2)]\n",
        "      p[k2] = p.get(k2, []) + [v2]\n",
        "  return [(partition_id, sorted(partition.items(), key=lambda x: x[0])) for (partition_id, partition) in enumerate(partitions)]\n",
        "\n",
        "def PARTITIONER(obj):\n",
        "  global reducers\n",
        "  return hash(obj) % reducers\n",
        "\n",
        "def MapReduceDistributed(INPUTFORMAT, MAP, REDUCE, PARTITIONER=PARTITIONER, COMBINER=None):\n",
        "  map_partitions = map(lambda record_reader: flatten(map(lambda k1v1: MAP(*k1v1), record_reader)), INPUTFORMAT())\n",
        "  if COMBINER != None:\n",
        "    map_partitions = map(lambda map_partition: flatten(map(lambda k2v2: COMBINER(*k2v2), groupbykey(map_partition))), map_partitions)\n",
        "  reduce_partitions = groupbykey_distributed(map_partitions, PARTITIONER) # shuffle\n",
        "  reduce_outputs = map(lambda reduce_partition: (reduce_partition[0], flatten(map(lambda reduce_input_group: REDUCE(*reduce_input_group), reduce_partition[1]))), reduce_partitions)\n",
        "\n",
        "  print(\"{} key-value pairs were sent over a network.\".format(sum([len(vs) for (k,vs) in flatten([partition for (partition_id, partition) in reduce_partitions])])))\n",
        "  return reduce_outputs"
      ]
    },
    {
      "cell_type": "markdown",
      "metadata": {
        "id": "kxirlf3XqZxY"
      },
      "source": [
        "## Спецификация MapReduce Distributed\n",
        "\n",
        "\n",
        "```\n",
        "f (k1, v1) -> (k2,v2)*\n",
        "g (k2, v2*) -> (k3,v3)*\n",
        "\n",
        "e1 (k1, v1)\n",
        "e2 (k2, v2)\n",
        "partition1 (k2, v2)*\n",
        "partition2 (k2, v2*)*\n",
        "\n",
        "flatmap (e1->e2*, e1*) -> partition1*\n",
        "groupby (partition1*) -> partition2*\n",
        "\n",
        "mapreduce ((k1,v1)*) -> (k3,v3)*\n",
        "mapreduce .flatmap(f).groupby(k2).flatmap(g)\n",
        "```\n",
        "\n"
      ]
    },
    {
      "cell_type": "markdown",
      "metadata": {
        "id": "CWYw_CpbbY3C"
      },
      "source": [
        "## WordCount"
      ]
    },
    {
      "cell_type": "code",
      "execution_count": 166,
      "metadata": {
        "colab": {
          "base_uri": "https://localhost:8080/"
        },
        "id": "uR_zfGFkMZlp",
        "outputId": "bc6f190d-f684-417e-c49c-38153947c5df"
      },
      "outputs": [
        {
          "output_type": "stream",
          "name": "stdout",
          "text": [
            "56 key-value pairs were sent over a network.\n"
          ]
        },
        {
          "output_type": "execute_result",
          "data": {
            "text/plain": [
              "[(0, [('', 6), ('a', 2), ('banana', 2), ('it', 18)]),\n",
              " (1, [('is', 18), ('what', 10)])]"
            ]
          },
          "metadata": {},
          "execution_count": 166
        }
      ],
      "source": [
        "from typing import Iterator\n",
        "import numpy as np\n",
        "\n",
        "d1 = \"\"\"\n",
        "it is what it is\n",
        "it is what it is\n",
        "it is what it is\"\"\"\n",
        "d2 = \"\"\"\n",
        "what is it\n",
        "what is it\"\"\"\n",
        "d3 = \"\"\"\n",
        "it is a banana\"\"\"\n",
        "documents = [d1, d2, d3, d1, d2, d3]\n",
        "\n",
        "maps = 3\n",
        "reducers = 2\n",
        "\n",
        "def INPUTFORMAT():\n",
        "  global maps\n",
        "\n",
        "  def RECORDREADER(split):\n",
        "    for (docid, document) in enumerate(split):\n",
        "      for (lineid, line) in enumerate(document.split('\\n')):\n",
        "        yield (\"{}:{}\".format(docid,lineid), line)\n",
        "\n",
        "  split_size =  int(np.ceil(len(documents)/maps))\n",
        "  for i in range(0, len(documents), split_size):\n",
        "    yield RECORDREADER(documents[i:i+split_size])\n",
        "\n",
        "def MAP(docId:str, line:str):\n",
        "  for word in line.split(\" \"):\n",
        "    yield (word, 1)\n",
        "\n",
        "def REDUCE(word:str, counts:Iterator[int]):\n",
        "  sum = 0\n",
        "  for c in counts:\n",
        "    sum += c\n",
        "  yield (word, sum)\n",
        "\n",
        "# try to set COMBINER=REDUCER and look at the number of values sent over the network\n",
        "partitioned_output = MapReduceDistributed(INPUTFORMAT, MAP, REDUCE, COMBINER=None)\n",
        "partitioned_output = [(partition_id, list(partition)) for (partition_id, partition) in partitioned_output]\n",
        "partitioned_output"
      ]
    },
    {
      "cell_type": "markdown",
      "metadata": {
        "id": "gCJGx8IQ87xS"
      },
      "source": [
        "## TeraSort"
      ]
    },
    {
      "cell_type": "code",
      "execution_count": 167,
      "metadata": {
        "colab": {
          "base_uri": "https://localhost:8080/"
        },
        "id": "P2v8v1v_8_YR",
        "outputId": "d43f614a-6ffe-4523-a3ed-3418971398c1"
      },
      "outputs": [
        {
          "output_type": "stream",
          "name": "stdout",
          "text": [
            "30 key-value pairs were sent over a network.\n"
          ]
        },
        {
          "output_type": "execute_result",
          "data": {
            "text/plain": [
              "[(0,\n",
              "  [(None, 0.05981551187506884),\n",
              "   (None, 0.07821110252114549),\n",
              "   (None, 0.1027983532637673),\n",
              "   (None, 0.10293941991646516),\n",
              "   (None, 0.10451974150904364),\n",
              "   (None, 0.20598026683601278),\n",
              "   (None, 0.20864859284205461),\n",
              "   (None, 0.2777263886102014),\n",
              "   (None, 0.2780825872090301),\n",
              "   (None, 0.38786179542043353),\n",
              "   (None, 0.398675914878415),\n",
              "   (None, 0.40079099966744147),\n",
              "   (None, 0.42751593379591535),\n",
              "   (None, 0.4342857309992194),\n",
              "   (None, 0.4411837959513294)]),\n",
              " (1,\n",
              "  [(None, 0.532696741195867),\n",
              "   (None, 0.5540193651434818),\n",
              "   (None, 0.6708298975319277),\n",
              "   (None, 0.6752779863474464),\n",
              "   (None, 0.6835299988358828),\n",
              "   (None, 0.7140906764440873),\n",
              "   (None, 0.7142882860269851),\n",
              "   (None, 0.7211232358411006),\n",
              "   (None, 0.7277334876695171),\n",
              "   (None, 0.7940319381642306),\n",
              "   (None, 0.7950725741240634),\n",
              "   (None, 0.7966513383203353),\n",
              "   (None, 0.8030262011529384),\n",
              "   (None, 0.9033185772086588),\n",
              "   (None, 0.9593872459440649)])]"
            ]
          },
          "metadata": {},
          "execution_count": 167
        }
      ],
      "source": [
        "import numpy as np\n",
        "\n",
        "input_values = np.random.rand(30)\n",
        "maps = 3\n",
        "reducers = 2\n",
        "min_value = 0.0\n",
        "max_value = 1.0\n",
        "\n",
        "def INPUTFORMAT():\n",
        "  global maps\n",
        "\n",
        "  def RECORDREADER(split):\n",
        "    for value in split:\n",
        "        yield (value, None)\n",
        "\n",
        "  split_size =  int(np.ceil(len(input_values)/maps))\n",
        "  for i in range(0, len(input_values), split_size):\n",
        "    yield RECORDREADER(input_values[i:i+split_size])\n",
        "\n",
        "def MAP(value:int, _):\n",
        "  yield (value, None)\n",
        "\n",
        "def PARTITIONER(key):\n",
        "  global reducers\n",
        "  global max_value\n",
        "  global min_value\n",
        "  bucket_size = (max_value-min_value)/reducers\n",
        "  bucket_id = 0\n",
        "  while((key>(bucket_id+1)*bucket_size) and ((bucket_id+1)*bucket_size<max_value)):\n",
        "    bucket_id += 1\n",
        "  return bucket_id\n",
        "\n",
        "def REDUCE(value:int, _):\n",
        "  yield (None,value)\n",
        "\n",
        "partitioned_output = MapReduceDistributed(INPUTFORMAT, MAP, REDUCE, COMBINER=None, PARTITIONER=PARTITIONER)\n",
        "partitioned_output = [(partition_id, list(partition)) for (partition_id, partition) in partitioned_output]\n",
        "partitioned_output"
      ]
    },
    {
      "cell_type": "code",
      "execution_count": 167,
      "metadata": {
        "id": "MQhoJaVZI93G"
      },
      "outputs": [],
      "source": []
    },
    {
      "cell_type": "markdown",
      "metadata": {
        "id": "Iy65YJTH99iT"
      },
      "source": [
        "# Упражнения\n",
        "Упражнения взяты из Rajaraman A., Ullman J. D. Mining of massive datasets. – Cambridge University Press, 2011.\n",
        "\n",
        "\n",
        "Для выполнения заданий переопределите функции RECORDREADER, MAP, REDUCE. Для модели распределённой системы может потребоваться переопределение функций PARTITION и COMBINER."
      ]
    },
    {
      "cell_type": "markdown",
      "metadata": {
        "id": "cfvAeZm3S8S8"
      },
      "source": [
        "### Максимальное значение ряда\n",
        "\n",
        "Разработайте MapReduce алгоритм, который находит максимальное число входного списка чисел."
      ]
    },
    {
      "cell_type": "code",
      "execution_count": 168,
      "metadata": {
        "id": "3GRA1JR-Tkbg",
        "colab": {
          "base_uri": "https://localhost:8080/"
        },
        "outputId": "d1c7e0ce-5510-43ba-cf57-bfe266f0664c"
      },
      "outputs": [
        {
          "output_type": "execute_result",
          "data": {
            "text/plain": [
              "[(0, 300)]"
            ]
          },
          "metadata": {},
          "execution_count": 168
        }
      ],
      "source": [
        "input_numbers = [1, 3, 12, 15, 8, 25, -30, 85, 300]\n",
        "\n",
        "def RECORDREADER():\n",
        "  for value in input_numbers:\n",
        "    yield (0, value)\n",
        "\n",
        "def MAP(id: int, value:int):\n",
        "  yield(id, value)\n",
        "\n",
        "def REDUCE(id: int, digits: list):\n",
        "  yield (id, max(digits))\n",
        "\n",
        "output = MapReduce(RECORDREADER, MAP, REDUCE)\n",
        "output = list(output)\n",
        "output"
      ]
    },
    {
      "cell_type": "markdown",
      "metadata": {
        "id": "k86bXnqZTk-U"
      },
      "source": [
        "### Арифметическое среднее\n",
        "\n",
        "Разработайте MapReduce алгоритм, который находит арифметическое среднее.\n",
        "\n",
        "$$\\overline{X} = \\frac{1}{n}\\sum_{i=0}^{n} x_i$$\n"
      ]
    },
    {
      "cell_type": "code",
      "execution_count": 169,
      "metadata": {
        "id": "MPoY5pkfUNZf",
        "colab": {
          "base_uri": "https://localhost:8080/"
        },
        "outputId": "cefb49e8-cc7c-4a61-e9c7-43db678cf5ab"
      },
      "outputs": [
        {
          "output_type": "execute_result",
          "data": {
            "text/plain": [
              "[(0, 6.0)]"
            ]
          },
          "metadata": {},
          "execution_count": 169
        }
      ],
      "source": [
        "# Пример входного списка чисел\n",
        "input_numbers = [3, 5, 12, 2, 8]\n",
        "\n",
        "def RECORDREADER():\n",
        "  for value in input_numbers:\n",
        "    yield (0, value)\n",
        "\n",
        "def MAP(index: int, value:int):\n",
        "  yield(index, value)\n",
        "\n",
        "def REDUCE(id: int, digits: list):\n",
        "  yield (id, sum(digits)/len(digits))\n",
        "\n",
        "output = MapReduce(RECORDREADER, MAP, REDUCE)\n",
        "output = list(output)\n",
        "output"
      ]
    },
    {
      "cell_type": "markdown",
      "metadata": {
        "id": "xanzszhsIlLe"
      },
      "source": [
        "### GroupByKey на основе сортировки\n",
        "\n",
        "Реализуйте groupByKey на основе сортировки, проверьте его работу на примерах"
      ]
    },
    {
      "cell_type": "code",
      "execution_count": 170,
      "metadata": {
        "id": "hQPn3USsIkEC",
        "colab": {
          "base_uri": "https://localhost:8080/"
        },
        "outputId": "6286507f-5bf9-4ec0-e3ad-3402798efc26"
      },
      "outputs": [
        {
          "output_type": "stream",
          "name": "stdout",
          "text": [
            "[(0, [User(id=0, age=34, social_contacts=30, gender='female')]), (1, [User(id=1, age=21, social_contacts=120, gender='female')]), (2, [User(id=2, age=21, social_contacts=340, gender='female')]), (3, [User(id=3, age=54, social_contacts=760, gender='female')]), (4, [User(id=4, age=54, social_contacts=145, gender='male')])] \n",
            "\n",
            "[(21, [User(id=1, age=21, social_contacts=120, gender='female'), User(id=2, age=21, social_contacts=340, gender='female')]), (34, [User(id=0, age=34, social_contacts=30, gender='female')]), (54, [User(id=3, age=54, social_contacts=760, gender='female'), User(id=4, age=54, social_contacts=145, gender='male')])] \n",
            "\n",
            "[('female', [User(id=0, age=34, social_contacts=30, gender='female'), User(id=1, age=21, social_contacts=120, gender='female'), User(id=2, age=21, social_contacts=340, gender='female'), User(id=3, age=54, social_contacts=760, gender='female')]), ('male', [User(id=4, age=54, social_contacts=145, gender='male')])] \n",
            "\n"
          ]
        }
      ],
      "source": [
        "input_collection = [\n",
        "    User(id=0, age = 34, gender='female', social_contacts=30),\n",
        "    User(id=1, age = 21, gender='female', social_contacts=120),\n",
        "    User(id=2, age = 21, gender='female', social_contacts=340),\n",
        "    User(id=3, age = 54, gender='female', social_contacts=760),\n",
        "    User(id=4, age = 54, gender='male', social_contacts=145)\n",
        "]\n",
        "\n",
        "def RECORDREADER(key:str):\n",
        "  for user in input_collection:\n",
        "    yield (getattr(user, key), user)\n",
        "\n",
        "def groupbykey(iterable):\n",
        "  ixGroup = {}\n",
        "  for key, value in sorted(iterable, key=lambda x:x[0]):\n",
        "    if key in ixGroup:\n",
        "      ixGroup[key].append(value)\n",
        "    else:\n",
        "      ixGroup[key] = [value]\n",
        "  return ixGroup.items()\n",
        "\n",
        "print(list(groupbykey(flatten(map(lambda x: MAP(*x), RECORDREADER(\"id\"))))), '\\n')\n",
        "print(list(groupbykey(flatten(map(lambda x: MAP(*x), RECORDREADER(\"age\"))))), '\\n')\n",
        "print(list(groupbykey(flatten(map(lambda x: MAP(*x), RECORDREADER(\"gender\"))))), '\\n')"
      ]
    },
    {
      "cell_type": "markdown",
      "metadata": {
        "id": "5SgEjCZyGnu6"
      },
      "source": [
        "### Drop duplicates (set construction, unique elements, distinct)\n",
        "\n",
        "Реализуйте распределённую операцию исключения дубликатов"
      ]
    },
    {
      "cell_type": "code",
      "execution_count": 171,
      "metadata": {
        "id": "okjbyApjGhMt",
        "colab": {
          "base_uri": "https://localhost:8080/"
        },
        "outputId": "4bf116e0-e4bf-4f61-ab9f-76d16e049dac"
      },
      "outputs": [
        {
          "output_type": "stream",
          "name": "stdout",
          "text": [
            "5 key-value pairs were sent over a network.\n"
          ]
        },
        {
          "output_type": "execute_result",
          "data": {
            "text/plain": [
              "[(0,\n",
              "  [[User(id=0, age=34, social_contacts=30, gender='female')],\n",
              "   [User(id=2, age=21, social_contacts=340, gender='female')]]),\n",
              " (1,\n",
              "  [[User(id=1, age=21, social_contacts=120, gender='female')],\n",
              "   [User(id=3, age=54, social_contacts=760, gender='female')]])]"
            ]
          },
          "metadata": {},
          "execution_count": 171
        }
      ],
      "source": [
        "input_collection = [\n",
        "    User(id=0, age = 34, gender='female', social_contacts=30),\n",
        "    User(id=1, age = 21, gender='female', social_contacts=120),\n",
        "    User(id=2, age = 21, gender='female', social_contacts=340),\n",
        "    User(id=3, age = 54, gender='female', social_contacts=760),\n",
        "    User(id=0, age = 34, gender='female', social_contacts=30)\n",
        "]\n",
        "\n",
        "def INPUTFORMAT():\n",
        "  global maps\n",
        "\n",
        "  def RECORDREADER(split):\n",
        "    for user in split:\n",
        "        yield (user.id, user)\n",
        "\n",
        "  split_size =  int(np.ceil(len(input_collection)/maps))\n",
        "  for i in range(0, len(input_collection), split_size):\n",
        "    yield RECORDREADER(input_collection[i:i+split_size])\n",
        "\n",
        "def MAP(idUser:int, user: User):\n",
        "  yield (idUser, user)\n",
        "\n",
        "def REDUCE(idUser: int, avUser: list):\n",
        "  yield (list(set(avUser)))\n",
        "\n",
        "partitioned_output = MapReduceDistributed(INPUTFORMAT, MAP, REDUCE, COMBINER=None)\n",
        "partitioned_output = [(partition_id, list(partition)) for (partition_id, partition) in partitioned_output]\n",
        "partitioned_output"
      ]
    },
    {
      "cell_type": "markdown",
      "metadata": {
        "id": "e7sRGoTXuJze"
      },
      "source": [
        "#Операторы реляционной алгебры\n",
        "### Selection (Выборка)\n",
        "\n",
        "**The Map Function**: Для  каждого кортежа $t \\in R$ вычисляется истинность предиката $C$. В случае истины создаётся пара ключ-значение $(t, t)$. В паре ключ и значение одинаковы, равны $t$.\n",
        "\n",
        "**The Reduce Function:** Роль функции Reduce выполняет функция идентичности, которая возвращает то же значение, что получила на вход.\n",
        "\n"
      ]
    },
    {
      "cell_type": "code",
      "execution_count": 172,
      "metadata": {
        "id": "4nKIKe59uIfc",
        "colab": {
          "base_uri": "https://localhost:8080/"
        },
        "outputId": "817a9ba6-e69f-42fe-a1bd-86874f342c3a"
      },
      "outputs": [
        {
          "output_type": "execute_result",
          "data": {
            "text/plain": [
              "[[User(id=0, age=34, social_contacts=30, gender='female')],\n",
              " [User(id=1, age=21, social_contacts=120, gender='female')],\n",
              " [User(id=2, age=21, social_contacts=340, gender='female')],\n",
              " [User(id=3, age=54, social_contacts=760, gender='female')]]"
            ]
          },
          "metadata": {},
          "execution_count": 172
        }
      ],
      "source": [
        "input_collection = [\n",
        "    User(id=0, age = 34, gender='female', social_contacts=30),\n",
        "    User(id=1, age = 21, gender='female', social_contacts=120),\n",
        "    User(id=2, age = 21, gender='female', social_contacts=340),\n",
        "    User(id=3, age = 54, gender='female', social_contacts=760),\n",
        "    User(id=4, age = 54, gender='male', social_contacts=145)\n",
        "]\n",
        "\n",
        "def RECORDREADER():\n",
        "  for user in input_collection:\n",
        "    yield (user.id, user)\n",
        "\n",
        "def MAP(id: int, user:User):\n",
        "  if(user.gender == 'female'):\n",
        "    yield(user, user)\n",
        "\n",
        "def REDUCE(id: int, user: User):\n",
        "  yield user\n",
        "\n",
        "output = MapReduce(RECORDREADER, MAP, REDUCE)\n",
        "output = list(output)\n",
        "output"
      ]
    },
    {
      "cell_type": "markdown",
      "metadata": {
        "id": "w27Ca-_Ku85V"
      },
      "source": [
        "### Projection (Проекция)\n",
        "\n",
        "Проекция на множество атрибутов $S$.\n",
        "\n",
        "**The Map Function:** Для каждого кортежа $t \\in R$ создайте кортеж $t′$, исключая  из $t$ те значения, атрибуты которых не принадлежат  $S$. Верните пару $(t′, t′)$.\n",
        "\n",
        "**The Reduce Function:** Для каждого ключа $t′$, созданного любой Map задачей, вы получаете одну или несколько пар $(t′, t′)$. Reduce функция преобразует $(t′, [t′, t′, . . . , t′])$ в $(t′, t′)$, так, что для ключа $t′$ возвращается одна пара  $(t′, t′)$."
      ]
    },
    {
      "cell_type": "code",
      "execution_count": 173,
      "metadata": {
        "id": "BEvuY4GqvhS6",
        "colab": {
          "base_uri": "https://localhost:8080/"
        },
        "outputId": "8075f042-16a0-4983-8a17-4e4865c980d0"
      },
      "outputs": [
        {
          "output_type": "execute_result",
          "data": {
            "text/plain": [
              "[(Projection(id=0, age=34), Projection(id=0, age=34)),\n",
              " (Projection(id=1, age=21), Projection(id=1, age=21)),\n",
              " (Projection(id=2, age=21), Projection(id=2, age=21)),\n",
              " (Projection(id=3, age=54), Projection(id=3, age=54)),\n",
              " (Projection(id=4, age=54), Projection(id=4, age=54))]"
            ]
          },
          "metadata": {},
          "execution_count": 173
        }
      ],
      "source": [
        "class Projection(NamedTuple):\n",
        "  id: int\n",
        "  age: int\n",
        "\n",
        "input_collection = [\n",
        "    User(id=0, age = 34, gender='female', social_contacts=30),\n",
        "    User(id=1, age = 21, gender='female', social_contacts=120),\n",
        "    User(id=2, age = 21, gender='female', social_contacts=340),\n",
        "    User(id=3, age = 54, gender='female', social_contacts=760),\n",
        "    User(id=4, age = 54, gender='male', social_contacts=145)\n",
        "]\n",
        "\n",
        "def RECORDREADER():\n",
        "  for user in input_collection:\n",
        "    yield (user.id, user)\n",
        "\n",
        "def MAP(id: int, user:User):\n",
        "  projection = Projection(user.id, user.age)\n",
        "  yield(projection, projection)\n",
        "\n",
        "def REDUCE(prj: Projection, avUser: list):\n",
        "  yield (prj, prj)\n",
        "\n",
        "output = MapReduce(RECORDREADER, MAP, REDUCE)\n",
        "output = list(output)\n",
        "output"
      ]
    },
    {
      "cell_type": "markdown",
      "metadata": {
        "id": "7gau6lKXvn2R"
      },
      "source": [
        "### Union (Объединение)\n",
        "\n",
        "**The Map Function:** Превратите каждый входной кортеж $t$ в пару ключ-значение $(t, t)$.\n",
        "\n",
        "**The Reduce Function:** С каждым ключом $t$ будет ассоциировано одно или два значений. В обоих случаях создайте $(t, t)$ в качестве выходного значения."
      ]
    },
    {
      "cell_type": "code",
      "execution_count": 174,
      "metadata": {
        "id": "Sns7a5agv3nw",
        "colab": {
          "base_uri": "https://localhost:8080/"
        },
        "outputId": "d22db2d1-732a-45b4-c3c2-2e6573a87546"
      },
      "outputs": [
        {
          "output_type": "execute_result",
          "data": {
            "text/plain": [
              "[(User(id=0, age=34, social_contacts=30, gender='female'),\n",
              "  User(id=0, age=34, social_contacts=30, gender='female')),\n",
              " (User(id=1, age=21, social_contacts=120, gender='female'),\n",
              "  User(id=1, age=21, social_contacts=120, gender='female')),\n",
              " (User(id=2, age=21, social_contacts=340, gender='female'),\n",
              "  User(id=2, age=21, social_contacts=340, gender='female')),\n",
              " (User(id=3, age=54, social_contacts=760, gender='female'),\n",
              "  User(id=3, age=54, social_contacts=760, gender='female')),\n",
              " (User(id=4, age=54, social_contacts=145, gender='male'),\n",
              "  User(id=4, age=54, social_contacts=145, gender='male')),\n",
              " (User(id=5, age=47, social_contacts=340, gender='male'),\n",
              "  User(id=5, age=47, social_contacts=340, gender='male')),\n",
              " (User(id=6, age=19, social_contacts=24, gender='female'),\n",
              "  User(id=6, age=19, social_contacts=24, gender='female'))]"
            ]
          },
          "metadata": {},
          "execution_count": 174
        }
      ],
      "source": [
        "input_collection1 = [\n",
        "    User(id=0, age = 34, gender='female', social_contacts=30),\n",
        "    User(id=1, age = 21, gender='female', social_contacts=120),\n",
        "    User(id=2, age = 21, gender='female', social_contacts=340),\n",
        "    User(id=3, age = 54, gender='female', social_contacts=760),\n",
        "    User(id=4, age = 54, gender='male', social_contacts=145)\n",
        "]\n",
        "\n",
        "input_collection2 = [\n",
        "    User(id=0, age = 34, gender='female', social_contacts=30),\n",
        "    User(id=5, age=47, gender='male', social_contacts=340),\n",
        "    User(id=6, age=19, gender='female', social_contacts=24),\n",
        "]\n",
        "\n",
        "input_collection = [input_collection1, input_collection2]\n",
        "\n",
        "def RECORDREADER():\n",
        "  for user_list in input_collection:\n",
        "    for user in user_list:\n",
        "      yield (user.id, user)\n",
        "\n",
        "def MAP(id: int, user:User):\n",
        "  yield (user, user)\n",
        "\n",
        "def REDUCE(user: User, avUser: list):\n",
        "  yield (user, user)\n",
        "\n",
        "output = MapReduce(RECORDREADER, MAP, REDUCE)\n",
        "output = list(output)\n",
        "output\n"
      ]
    },
    {
      "cell_type": "markdown",
      "metadata": {
        "id": "dQ8TuEbjv4J8"
      },
      "source": [
        "### Intersection (Пересечение)\n",
        "\n",
        "**The Map Function:** Превратите каждый кортеж $t$ в пары ключ-значение $(t, t)$.\n",
        "\n",
        "**The Reduce Function:** Если для ключа $t$ есть список из двух элементов $[t, t]$ $-$ создайте пару $(t, t)$. Иначе, ничего не создавайте."
      ]
    },
    {
      "cell_type": "code",
      "execution_count": 175,
      "metadata": {
        "id": "XKlBZh4IwERR",
        "colab": {
          "base_uri": "https://localhost:8080/"
        },
        "outputId": "e2bc09fa-98a7-4a20-ef27-57cf94a9390f"
      },
      "outputs": [
        {
          "output_type": "execute_result",
          "data": {
            "text/plain": [
              "[(User(id=0, age=34, social_contacts=30, gender='female'),\n",
              "  User(id=0, age=34, social_contacts=30, gender='female'))]"
            ]
          },
          "metadata": {},
          "execution_count": 175
        }
      ],
      "source": [
        "input_collection1 = [\n",
        "    User(id=0, age = 34, gender='female', social_contacts=30),\n",
        "    User(id=1, age = 21, gender='female', social_contacts=120),\n",
        "    User(id=2, age = 21, gender='female', social_contacts=340),\n",
        "    User(id=3, age = 54, gender='female', social_contacts=760),\n",
        "    User(id=4, age = 54, gender='male', social_contacts=145)\n",
        "]\n",
        "\n",
        "input_collection2 = [\n",
        "    User(id=0, age = 34, gender='female', social_contacts=30),\n",
        "    User(id=5, age=47, gender='male', social_contacts=340),\n",
        "    User(id=6, age=19, gender='female', social_contacts=24),\n",
        "]\n",
        "\n",
        "input_collection = [input_collection1, input_collection2]\n",
        "\n",
        "def RECORDREADER():\n",
        "  for user_list in input_collection:\n",
        "    for user in user_list:\n",
        "      yield (user.id, user)\n",
        "\n",
        "def MAP(id: int, user:User):\n",
        "  yield (user, user)\n",
        "\n",
        "def REDUCE(user: User, avUser: list):\n",
        "  if(len(avUser) == 2):\n",
        "    yield (user, user)\n",
        "\n",
        "output = MapReduce(RECORDREADER, MAP, REDUCE)\n",
        "output = list(output)\n",
        "output\n"
      ]
    },
    {
      "cell_type": "markdown",
      "metadata": {
        "id": "AVOpqoY3wE5k"
      },
      "source": [
        "### Difference (Разница)\n",
        "\n",
        "**The Map Function:** Для кортежа $t \\in R$, создайте пару $(t, R)$, и для кортежа $t \\in S$, создайте пару $(t, S)$. Задумка заключается в том, чтобы значение пары было именем отношения $R$ or $S$, которому принадлежит кортеж (а лучше, единичный бит, по которому можно два отношения различить $R$ or $S$), а не весь набор атрибутов отношения.\n",
        "\n",
        "**The Reduce Function:** Для каждого ключа $t$, если соответствующее значение является списком $[R]$, создайте пару $(t, t)$. В иных случаях не предпринимайте действий."
      ]
    },
    {
      "cell_type": "code",
      "execution_count": 176,
      "metadata": {
        "id": "QE_AC09lwZIZ",
        "colab": {
          "base_uri": "https://localhost:8080/"
        },
        "outputId": "3986b439-e151-4343-d131-239764c3b91a"
      },
      "outputs": [
        {
          "output_type": "execute_result",
          "data": {
            "text/plain": [
              "[(User(id=1, age=21, social_contacts=120, gender='female'),\n",
              "  User(id=1, age=21, social_contacts=120, gender='female')),\n",
              " (User(id=2, age=21, social_contacts=340, gender='female'),\n",
              "  User(id=2, age=21, social_contacts=340, gender='female')),\n",
              " (User(id=3, age=54, social_contacts=760, gender='female'),\n",
              "  User(id=3, age=54, social_contacts=760, gender='female')),\n",
              " (User(id=4, age=54, social_contacts=145, gender='male'),\n",
              "  User(id=4, age=54, social_contacts=145, gender='male'))]"
            ]
          },
          "metadata": {},
          "execution_count": 176
        }
      ],
      "source": [
        "input_collection1 = [\n",
        "    User(id=0, age = 34, gender='female', social_contacts=30),\n",
        "    User(id=1, age = 21, gender='female', social_contacts=120),\n",
        "    User(id=2, age = 21, gender='female', social_contacts=340),\n",
        "    User(id=3, age = 54, gender='female', social_contacts=760),\n",
        "    User(id=4, age = 54, gender='male', social_contacts=145)\n",
        "]\n",
        "\n",
        "input_collection2 = [\n",
        "    User(id=0, age = 34, gender='female', social_contacts=30),\n",
        "    User(id=5, age = 21, gender='female', social_contacts=340),\n",
        "    User(id=6, age = 19, gender='female', social_contacts=24),\n",
        "]\n",
        "\n",
        "input_collection = [input_collection1, input_collection2]\n",
        "\n",
        "def RECORDREADER():\n",
        "  for index, user_list in enumerate(input_collection):\n",
        "    for user in user_list:\n",
        "      yield (index, user)\n",
        "\n",
        "def MAP(id: int, user:User):\n",
        "  yield (user, id)\n",
        "\n",
        "def REDUCE(user: User, avUser: list):\n",
        "  if len(avUser) == 1 and avUser[0] == 0:\n",
        "    yield (user, user)\n",
        "\n",
        "output = MapReduce(RECORDREADER, MAP, REDUCE)\n",
        "output = list(output)\n",
        "output\n"
      ]
    },
    {
      "cell_type": "markdown",
      "metadata": {
        "id": "j8I58V2VwhSm"
      },
      "source": [
        "### Natural Join\n",
        "\n",
        "**The Map Function:** Для каждого кортежа $(a, b)$ отношения $R$, создайте пару $(b,(R, a))$. Для каждого кортежа $(b, c)$ отношения $S$, создайте пару $(b,(S, c))$.\n",
        "\n",
        "**The Reduce Function:** Каждый ключ $b$ будет асоциирован со списком пар, которые принимают форму либо $(R, a)$, либо $(S, c)$. Создайте все пары, одни, состоящие из  первого компонента $R$, а другие, из первого компонента $S$, то есть $(R, a)$ и $(S, c)$. На выходе вы получаете последовательность пар ключ-значение из списков ключей и значений. Ключ не нужен. Каждое значение, это тройка $(a, b, c)$ такая, что $(R, a)$ и $(S, c)$ это принадлежат входному списку значений."
      ]
    },
    {
      "cell_type": "code",
      "execution_count": 177,
      "metadata": {
        "id": "yHiuuTctw86I",
        "colab": {
          "base_uri": "https://localhost:8080/"
        },
        "outputId": "86e5d28b-ec1b-4acf-b17f-13d5bc05715d"
      },
      "outputs": [
        {
          "output_type": "execute_result",
          "data": {
            "text/plain": [
              "[(2, 'Banana', 20), (1, 'Ice cream', 60)]"
            ]
          },
          "metadata": {},
          "execution_count": 177
        }
      ],
      "source": [
        "class Product(NamedTuple):\n",
        "    id: int\n",
        "    category: str\n",
        "\n",
        "class ProductCost(NamedTuple):\n",
        "    category:str\n",
        "    cost: int\n",
        "\n",
        "input_collection1 = [\n",
        "    Product(1, 'Ice cream'),\n",
        "    Product(2, 'Banana')\n",
        "]\n",
        "input_collection2 = [\n",
        "    ProductCost('Ice cream', 60),\n",
        "    ProductCost('Banana', 20)\n",
        "]\n",
        "\n",
        "input_collection = [input_collection1, input_collection2]\n",
        "\n",
        "def RECORDREADER():\n",
        "  for index, user_list in enumerate(input_collection):\n",
        "    for user in user_list:\n",
        "      yield (index, user)\n",
        "\n",
        "def MAP(id: int, obj:NamedTuple):\n",
        "  if(id == 0):\n",
        "     yield(obj.category, (0, obj.id))\n",
        "  else:\n",
        "     yield(obj.category, (1, obj.cost))\n",
        "\n",
        "def REDUCE(name: str, lst: list):\n",
        "  R = [obj for (id, obj) in lst if id == 0]\n",
        "  S = [obj for (id, obj) in lst if id == 1]\n",
        "  for a in R:\n",
        "    for c in S:\n",
        "      yield (a, name, c)\n",
        "\n",
        "output = MapReduce(RECORDREADER, MAP, REDUCE)\n",
        "output = list(output)\n",
        "output\n"
      ]
    },
    {
      "cell_type": "markdown",
      "metadata": {
        "id": "kYdlr0YUxE27"
      },
      "source": [
        "### Grouping and Aggregation (Группировка и аггрегация)\n",
        "\n",
        "**The Map Function:** Для каждого кортежа $(a, b, c$) создайте пару $(a, b)$.\n",
        "\n",
        "**The Reduce Function:** Ключ представляет ту или иную группу. Примение аггрегирующую операцию $\\theta$ к списку значений $[b1, b2, . . . , bn]$ ассоциированных с ключом $a$. Возвращайте в выходной поток $(a, x)$, где $x$ результат применения  $\\theta$ к списку. Например, если $\\theta$ это $SUM$, тогда $x = b1 + b2 + · · · + bn$, а если $\\theta$ is $MAX$, тогда $x$ это максимальное из значений $b1, b2, . . . , bn$."
      ]
    },
    {
      "cell_type": "code",
      "execution_count": 178,
      "metadata": {
        "id": "MLPckfEGxico",
        "colab": {
          "base_uri": "https://localhost:8080/"
        },
        "outputId": "a0f29bfa-ed7c-402e-a893-0a43c4f3ce9a"
      },
      "outputs": [
        {
          "output_type": "execute_result",
          "data": {
            "text/plain": [
              "[(0, 220), (1, 185)]"
            ]
          },
          "metadata": {},
          "execution_count": 178
        }
      ],
      "source": [
        "class ProductCostByCategory(NamedTuple):\n",
        "   category_id: int\n",
        "   category: str\n",
        "   cost: int\n",
        "\n",
        "class Product(NamedTuple):\n",
        "    id: int\n",
        "    category: str\n",
        "\n",
        "class ProductCost(NamedTuple):\n",
        "    category:str\n",
        "    cost: int\n",
        "\n",
        "input_collection1 = [\n",
        "    ProductCost('Ice cream', 65),\n",
        "    ProductCost('Banana', 30),\n",
        "    ProductCost('Ice cream', 85),\n",
        "    ProductCost('Banana', 40)\n",
        "]\n",
        "input_collection2 = [\n",
        "    ProductCost('Ice cream', 60),\n",
        "    ProductCost('Banana', 20),\n",
        "    ProductCost('Ice cream', 80),\n",
        "    ProductCost('Banana', 25)\n",
        "]\n",
        "\n",
        "input_collection = [input_collection1, input_collection2]\n",
        "\n",
        "def RECORDREADER():\n",
        "  for index, user_list in enumerate(input_collection):\n",
        "    for user in user_list:\n",
        "      yield (index, user)\n",
        "\n",
        "def MAP(id: int, productCostByCategory:ProductCostByCategory):\n",
        "  yield (id, productCostByCategory.cost)\n",
        "\n",
        "def REDUCE(id: int, lst: list):\n",
        "  yield(id, sum(lst))\n",
        "\n",
        "output = MapReduce(RECORDREADER, MAP, REDUCE)\n",
        "output = list(output)\n",
        "output\n"
      ]
    },
    {
      "cell_type": "markdown",
      "metadata": {
        "id": "03IffTEOJgOb"
      },
      "source": [
        "#"
      ]
    },
    {
      "cell_type": "markdown",
      "metadata": {
        "id": "IIrRgvG4RIS4"
      },
      "source": [
        "### Matrix-Vector multiplication\n",
        "\n",
        "Случай, когда вектор не помещается в памяти Map задачи\n"
      ]
    },
    {
      "cell_type": "code",
      "execution_count": 179,
      "metadata": {
        "id": "KQhDbiL3zS9r",
        "colab": {
          "base_uri": "https://localhost:8080/"
        },
        "outputId": "4404edd6-a104-436b-b8d7-532808c23dce"
      },
      "outputs": [
        {
          "output_type": "stream",
          "name": "stdout",
          "text": [
            "25 key-value pairs were sent over a network.\n"
          ]
        },
        {
          "output_type": "execute_result",
          "data": {
            "text/plain": [
              "[(0, [(0, 10.0), (1, 10.0)])]"
            ]
          },
          "metadata": {},
          "execution_count": 179
        }
      ],
      "source": [
        "from typing import Iterator\n",
        "import numpy as np\n",
        "\n",
        "matrix = np.ones((5, 5))\n",
        "vector = np.array([i for i in range (5)])\n",
        "\n",
        "maps = 3\n",
        "reducers = 1\n",
        "\n",
        "def INPUTFORMAT():\n",
        "  global maps\n",
        "\n",
        "  def RECORDREADER(split):\n",
        "    for i in range(split.shape[0]):\n",
        "      for j in range(split.shape[1]):\n",
        "        yield ((i, j), (split[i, j], vector[j], split.shape[1]))\n",
        "\n",
        "  split_size =  int(np.ceil(len(matrix)/maps))\n",
        "  for i in range(0, len(matrix), split_size):\n",
        "    yield RECORDREADER(matrix[i:i+split_size])\n",
        "\n",
        "def MAP(nums, values):\n",
        "  i, j = nums\n",
        "  mat_val, vec_val, cols = values\n",
        "  yield ((i, cols), mat_val * vec_val)\n",
        "\n",
        "def REDUCE(nums, res):\n",
        "  i, cols = nums\n",
        "  yield (i, sum(res) / (len(res) / cols))\n",
        "\n",
        "partitioned_output = MapReduceDistributed(INPUTFORMAT, MAP, REDUCE, COMBINER=None)\n",
        "partitioned_output = [(partition_id, list(partition)) for (partition_id, partition) in partitioned_output]\n",
        "partitioned_output"
      ]
    },
    {
      "cell_type": "markdown",
      "metadata": {
        "id": "GIo2t7nNxvA9"
      },
      "source": [
        "## Matrix multiplication (Перемножение матриц)\n",
        "\n",
        "Если у нас есть матрица $M$ с элементами $m_{ij}$ в строке $i$ и столбце $j$, и матрица $N$ с элементами $n_{jk}$ в строке $j$ и столбце $k$, тогда их произведение $P = MN$ есть матрица $P$ с элементами $p_{ik}$ в строке $i$ и столбце $k$, где\n",
        "\n",
        "$$p_{ik} =\\sum_{j} m_{ij}n_{jk}$$\n",
        "\n",
        "Необходимым требованием является одинаковое количество столбцов в $M$ и строк в $N$, чтобы операция суммирования по  $j$ была осмысленной. Мы можем размышлять о матрице, как об отношении с тремя атрибутами: номер строки, номер столбца, само значение. Таким образом матрица $M$ предстваляется как отношение $ M(I, J, V )$, с кортежами $(i, j, m_{ij})$, и, аналогично, матрица $N$ представляется как отношение $N(J, K, W)$, с кортежами $(j, k, n_{jk})$. Так как большие матрицы как правило разреженные (большинство значений равно 0), и так как мы можем нулевыми значениями пренебречь (не хранить), такое реляционное представление достаточно эффективно для больших матриц. Однако, возможно, что координаты $i$, $j$, и $k$ неявно закодированы в смещение позиции элемента относительно начала файла, вместо явного хранения. Тогда, функция Map (или Reader) должна быть разработана таким образом, чтобы реконструировать компоненты $I$, $J$, и $K$ кортежей из смещения.\n",
        "\n",
        "Произведение $MN$ это фактически join, за которым следуют группировка по ключу и аггрегация. Таким образом join отношений $M(I, J, V )$ и $N(J, K, W)$, имеющих общим только атрибут $J$, создаст кортежи $(i, j, k, v, w)$ из каждого кортежа $(i, j, v) \\in M$ и кортежа $(j, k, w) \\in N$. Такой 5 компонентный кортеж представляет пару элементов матрицы $(m_{ij} , n_{jk})$. Что нам хотелось бы получить на самом деле, это произведение этих элементов, то есть, 4 компонентный кортеж$(i, j, k, v \\times w)$, так как он представляет произведение $m_{ij}n_{jk}$. Мы представляем отношение как результат одной MapReduce операции, в которой мы можем произвести группировку и аггрегацию, с $I$ и $K$  атрибутами, по которым идёт группировка, и суммой  $V \\times W$.\n",
        "\n",
        "\n",
        "\n"
      ]
    },
    {
      "cell_type": "code",
      "execution_count": 180,
      "metadata": {
        "id": "1MBkGaLAYVCt"
      },
      "outputs": [],
      "source": [
        "# MapReduce model\n",
        "def flatten(nested_iterable):\n",
        "  for iterable in nested_iterable:\n",
        "    for element in iterable:\n",
        "      yield element\n",
        "\n",
        "def groupbykey(iterable):\n",
        "  t = {}\n",
        "  for (k2, v2) in iterable:\n",
        "    t[k2] = t.get(k2, []) + [v2]\n",
        "  return t.items()\n",
        "\n",
        "def MapReduce(RECORDREADER, MAP, REDUCE):\n",
        "  return flatten(map(lambda x: REDUCE(*x), groupbykey(flatten(map(lambda x: MAP(*x), RECORDREADER())))))"
      ]
    },
    {
      "cell_type": "markdown",
      "metadata": {
        "id": "sMspsOT0ZB35"
      },
      "source": [
        "Реализуйте перемножение матриц с использованием модельного кода MapReduce для одной машины в случае, когда одна матрица хранится в памяти, а другая генерируется RECORDREADER-ом."
      ]
    },
    {
      "cell_type": "code",
      "execution_count": 181,
      "metadata": {
        "id": "psP1XekbsEjS"
      },
      "outputs": [],
      "source": [
        "import numpy as np\n",
        "I = 2\n",
        "J = 3\n",
        "K = 4*10\n",
        "small_mat = np.random.rand(I,J) # it is legal to access this from RECORDREADER, MAP, REDUCE\n",
        "big_mat = np.random.rand(J,K)\n",
        "\n",
        "def RECORDREADER():\n",
        "  for j in range(big_mat.shape[0]):\n",
        "    for k in range(big_mat.shape[1]):\n",
        "      yield ((j,k), big_mat[j,k])\n",
        "\n",
        "def MAP(k1, v1):\n",
        "  (j, k) = k1\n",
        "  w = v1\n",
        "  for row in range(small_mat.shape[0]):\n",
        "    yield ((row, k), v1 * small_mat[row][j])\n",
        "\n",
        "def REDUCE(key, values):\n",
        "  (i, k) = key\n",
        "  yield (key, sum(values))"
      ]
    },
    {
      "cell_type": "markdown",
      "metadata": {
        "id": "rnt306LHhHrm"
      },
      "source": [
        "Проверьте своё решение"
      ]
    },
    {
      "cell_type": "code",
      "execution_count": 182,
      "metadata": {
        "colab": {
          "base_uri": "https://localhost:8080/"
        },
        "id": "Ewy_ZNYqW5a2",
        "outputId": "8e3d696d-853b-40bf-e86a-bc8474980536"
      },
      "outputs": [
        {
          "output_type": "execute_result",
          "data": {
            "text/plain": [
              "True"
            ]
          },
          "metadata": {},
          "execution_count": 182
        }
      ],
      "source": [
        "# CHECK THE SOLUTION\n",
        "reference_solution = np.matmul(small_mat, big_mat)\n",
        "solution = MapReduce(RECORDREADER, MAP, REDUCE)\n",
        "\n",
        "def asmatrix(reduce_output):\n",
        "  reduce_output = list(reduce_output)\n",
        "  I = max(i for ((i,k), vw) in reduce_output)+1\n",
        "  K = max(k for ((i,k), vw) in reduce_output)+1\n",
        "  mat = np.empty(shape=(I,K))\n",
        "  for ((i,k), vw) in reduce_output:\n",
        "    mat[i,k] = vw\n",
        "  return mat\n",
        "\n",
        "np.allclose(reference_solution, asmatrix(solution)) # should return true"
      ]
    },
    {
      "cell_type": "code",
      "execution_count": 183,
      "metadata": {
        "colab": {
          "base_uri": "https://localhost:8080/"
        },
        "id": "TK7v4CEcfxqf",
        "outputId": "10fe5d78-34cb-4597-86a4-0a6831852674"
      },
      "outputs": [
        {
          "output_type": "execute_result",
          "data": {
            "text/plain": [
              "1"
            ]
          },
          "metadata": {},
          "execution_count": 183
        }
      ],
      "source": [
        "reduce_output = list(MapReduce(RECORDREADER, MAP, REDUCE))\n",
        "max(i for ((i,k), vw) in reduce_output)"
      ]
    },
    {
      "cell_type": "markdown",
      "metadata": {
        "id": "i4yyg3kOZqJJ"
      },
      "source": [
        "Реализуйте перемножение матриц  с использованием модельного кода MapReduce для одной машины в случае, когда обе матрицы генерируются в RECORDREADER. Например, сначала одна, а потом другая."
      ]
    },
    {
      "cell_type": "code",
      "execution_count": 184,
      "metadata": {
        "id": "3B7rIAJCaHZq",
        "colab": {
          "base_uri": "https://localhost:8080/"
        },
        "outputId": "5a87655c-4e4f-4c49-f998-656468cbd3eb"
      },
      "outputs": [
        {
          "output_type": "execute_result",
          "data": {
            "text/plain": [
              "True"
            ]
          },
          "metadata": {},
          "execution_count": 184
        }
      ],
      "source": [
        "def RECORDREADER():\n",
        "  for i in range(big_mat.shape[1]):\n",
        "    for j in range(small_mat.shape[0]):\n",
        "      for k in range(small_mat.shape[1]):\n",
        "        yield ((j, i), (0, small_mat[j, k]))\n",
        "\n",
        "  for i in range(small_mat.shape[0]):\n",
        "    for j in range(big_mat.shape[0]):\n",
        "      for k in range(big_mat.shape[1]):\n",
        "        yield ((i, k), (1, big_mat[j, k]))\n",
        "\n",
        "\n",
        "def MAP(nums, values):\n",
        "  yield (nums, values)\n",
        "\n",
        "\n",
        "def REDUCE(nums, values):\n",
        "  small_matrix_values = [value for index, value in values if index == 0]\n",
        "  big_matrix_values = [value for index, value in values if index == 1]\n",
        "  yield (nums, np.dot(small_matrix_values, big_matrix_values))\n",
        "\n",
        "\n",
        "output = MapReduce(RECORDREADER, MAP, REDUCE)\n",
        "\n",
        "np.allclose(reference_solution, asmatrix(output))"
      ]
    },
    {
      "cell_type": "markdown",
      "metadata": {
        "id": "mXyzQi1DaIwo"
      },
      "source": [
        "Реализуйте перемножение матриц с использованием модельного кода MapReduce Distributed, когда каждая матрица генерируется в своём RECORDREADER."
      ]
    },
    {
      "cell_type": "code",
      "execution_count": 185,
      "metadata": {
        "id": "iz5PkyCCPEbw"
      },
      "outputs": [],
      "source": [
        "def asmatrix_dist(reduce_output):\n",
        "  reduce_output_list = []\n",
        "  for key, values in reduce_output:\n",
        "    for value in values:\n",
        "      reduce_output_list.append(value)\n",
        "\n",
        "  ixCount = {}\n",
        "  for key, value in reduce_output_list:\n",
        "    if key not in ixCount:\n",
        "      ixCount[key] = 0\n",
        "    ixCount[key] += value\n",
        "  return asmatrix((key, value) for key, value in ixCount.items())"
      ]
    },
    {
      "cell_type": "code",
      "execution_count": 186,
      "metadata": {
        "id": "TDM_s78Rb5eR",
        "colab": {
          "base_uri": "https://localhost:8080/"
        },
        "outputId": "5107e09c-4082-4122-c3f3-8c91a1620d74"
      },
      "outputs": [
        {
          "output_type": "stream",
          "name": "stdout",
          "text": [
            "480 key-value pairs were sent over a network.\n"
          ]
        },
        {
          "output_type": "execute_result",
          "data": {
            "text/plain": [
              "True"
            ]
          },
          "metadata": {},
          "execution_count": 186
        }
      ],
      "source": [
        "maps = 2\n",
        "reducers = 1\n",
        "\n",
        "def INPUTFORMAT():\n",
        "  global maps\n",
        "  small_matrix_rows = small_mat.shape[0]\n",
        "  big_matrix_rows = big_mat.shape[0]\n",
        "\n",
        "\n",
        "  def RECORDREADER_SMALL(split, idx):\n",
        "    split_rows, split_cols = split.shape\n",
        "    for i in range(big_mat.shape[1]):\n",
        "      for j in range(split_rows):\n",
        "        for k in range(split_cols):\n",
        "          yield ((j + idx, i), (0, split[j, k]))\n",
        "\n",
        "\n",
        "  split_size = int(np.ceil(small_matrix_rows / maps))\n",
        "  for i in range(0, small_matrix_rows, split_size):\n",
        "    yield RECORDREADER_SMALL(small_mat[i : i + split_size], i)\n",
        "\n",
        "\n",
        "  def RECORDREADER_BIG(split):\n",
        "    split_rows, split_cols = split.shape\n",
        "    for i in range(small_matrix_rows):\n",
        "      for j in range(split_rows):\n",
        "        for k in range(split_cols):\n",
        "          yield ((i, k), (1, split[j, k]))\n",
        "\n",
        "\n",
        "  split_size = int(np.ceil(big_matrix_rows / maps))\n",
        "  for i in range(0, big_matrix_rows, split_size):\n",
        "    yield RECORDREADER_BIG(big_mat[i : i + split_size])\n",
        "\n",
        "\n",
        "def MAP(nums, values):\n",
        "  yield (nums, values)\n",
        "\n",
        "\n",
        "def REDUCE(nums, values):\n",
        "  small_matrix_values = [value for index, value in values if index == 0]\n",
        "  big_matrix_values = [value for index, value in values if index == 1]\n",
        "  yield (nums, np.dot(small_matrix_values, big_matrix_values))\n",
        "\n",
        "\n",
        "partitioned_output = MapReduceDistributed(INPUTFORMAT, MAP, REDUCE, COMBINER=None)\n",
        "partitioned_output = [(partition_id, list(partition)) for (partition_id, partition) in partitioned_output]\n",
        "\n",
        "\n",
        "np.allclose(reference_solution, asmatrix_dist(partitioned_output))"
      ]
    },
    {
      "cell_type": "markdown",
      "metadata": {
        "id": "ZuSA2P9Db6UM"
      },
      "source": [
        "Обобщите предыдущее решение на случай, когда каждая матрица генерируется несколькими RECORDREADER-ами, и проверьте его работоспособность. Будет ли работать решение, если RECORDREADER-ы будут генерировать случайное подмножество элементов матрицы?"
      ]
    },
    {
      "cell_type": "code",
      "execution_count": 187,
      "metadata": {
        "id": "ehN0FqRDcwU5",
        "colab": {
          "base_uri": "https://localhost:8080/"
        },
        "outputId": "ec047ffe-9d7f-4741-b77e-bdbe4b89b0ec"
      },
      "outputs": [
        {
          "output_type": "stream",
          "name": "stdout",
          "text": [
            "480 key-value pairs were sent over a network.\n"
          ]
        },
        {
          "output_type": "execute_result",
          "data": {
            "text/plain": [
              "True"
            ]
          },
          "metadata": {},
          "execution_count": 187
        }
      ],
      "source": [
        "maps = 2\n",
        "reducers = 1\n",
        "\n",
        "\n",
        "def INPUTFORMAT():\n",
        "  global maps\n",
        "  small_rows = small_mat.shape[0]\n",
        "  small_cols = small_mat.shape[1]\n",
        "\n",
        "  big_rows = big_mat.shape[0]\n",
        "  big_cols = big_mat.shape[1]\n",
        "\n",
        "  def RECORDREADER_SMALL_1(split, idx):\n",
        "    split_rows, split_cols = split.shape\n",
        "    for i in range(big_mat.shape[1]):\n",
        "      for j in range(split_rows):\n",
        "        for k in range(split_cols):\n",
        "          yield ((j + idx, i), (0, split[j, k]))\n",
        "\n",
        "  def RECORDREADER_SMALL_2(split, idx):\n",
        "    split_rows, split_cols = split.shape\n",
        "    for i in range(big_mat.shape[1]):\n",
        "      for j in range(split_rows):\n",
        "        for k in range(split_cols):\n",
        "          yield ((j + idx, i), (0, split[j, k]))\n",
        "\n",
        "\n",
        "  def RECORDREADER_BIG_1(split, idx):\n",
        "    split_rows, split_cols = split.shape\n",
        "    for i in range(small_rows):\n",
        "      for j in range(split_rows):\n",
        "        for k in range(split_cols):\n",
        "          yield ((i, k + idx), (1, split[j, k]))\n",
        "\n",
        "\n",
        "  def RECORDREADER_BIG_2(split, idx):\n",
        "    split_rows, split_cols = split.shape\n",
        "    for i in range(small_rows):\n",
        "      for j in range(split_rows):\n",
        "        for k in range(split_cols):\n",
        "          yield ((i, k + idx), (1, split[j, k]))\n",
        "\n",
        "\n",
        "  small_readers = {\n",
        "      0: RECORDREADER_SMALL_1,\n",
        "      1: RECORDREADER_SMALL_2\n",
        "  }\n",
        "\n",
        "\n",
        "  big_readers = {\n",
        "       0: RECORDREADER_BIG_1,\n",
        "       1: RECORDREADER_BIG_2\n",
        "  }\n",
        "\n",
        "  split_size_rows = int(np.ceil(small_rows / maps))\n",
        "  split_size_cols = int(np.ceil(small_cols / maps))\n",
        "\n",
        "  counter = -1\n",
        "  for i in range(0, small_rows, split_size_rows):\n",
        "    for j in range(0, small_cols, split_size_cols):\n",
        "      counter += 1\n",
        "      yield small_readers[counter % len(small_readers)](small_mat[i : i + split_size_rows, j : j + split_size_cols], i)\n",
        "\n",
        "\n",
        "  split_size_rows = int(np.ceil(big_rows / maps))\n",
        "  split_size_cols = int(np.ceil(big_cols / maps))\n",
        "\n",
        "  counter = -1\n",
        "  for i in range(0, big_rows, split_size_rows):\n",
        "    for j in range(0, big_cols, split_size_cols):\n",
        "      counter += 1\n",
        "      yield big_readers[counter % len(big_readers)](big_mat[i : i + split_size_rows, j : j + split_size_cols], j)\n",
        "\n",
        "\n",
        "def MAP(nums, values):\n",
        "  yield (nums, values)\n",
        "\n",
        "\n",
        "def REDUCE(nums, values):\n",
        "  small_matrix_values = [value for index, value in values if index == 0]\n",
        "  big_matrix_values = [value for index, value in values if index == 1]\n",
        "  yield (nums, np.dot(small_matrix_values, big_matrix_values))\n",
        "\n",
        "\n",
        "partitioned_output = MapReduceDistributed(INPUTFORMAT, MAP, REDUCE, COMBINER=None)\n",
        "partitioned_output = [(partition_id, list(partition)) for (partition_id, partition) in partitioned_output]\n",
        "\n",
        "np.allclose(reference_solution, asmatrix_dist(partitioned_output)) # should return true"
      ]
    },
    {
      "cell_type": "markdown",
      "metadata": {
        "id": "oKMmKl-1PEbx"
      },
      "source": [
        "Как мы можем заметить, данное решение будет работать только в том случае, когда мы передаем положение элемента"
      ]
    }
  ],
  "metadata": {
    "colab": {
      "provenance": []
    },
    "kernelspec": {
      "display_name": "Python 3",
      "name": "python3"
    },
    "language_info": {
      "codemirror_mode": {
        "name": "ipython",
        "version": 3
      },
      "file_extension": ".py",
      "mimetype": "text/x-python",
      "name": "python",
      "nbconvert_exporter": "python",
      "pygments_lexer": "ipython3",
      "version": "3.10.8"
    }
  },
  "nbformat": 4,
  "nbformat_minor": 0
}